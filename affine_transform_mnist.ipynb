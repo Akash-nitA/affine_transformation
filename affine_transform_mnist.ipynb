{
  "nbformat": 4,
  "nbformat_minor": 0,
  "metadata": {
    "colab": {
      "name": "tf_cdf.ipynb",
      "provenance": [],
      "collapsed_sections": []
    },
    "kernelspec": {
      "name": "python3",
      "display_name": "Python 3"
    },
    "language_info": {
      "name": "python"
    },
    "accelerator": "GPU"
  },
  "cells": [
    {
      "cell_type": "code",
      "metadata": {
        "id": "r-qf0Cx1SJVW"
      },
      "source": [
        "import tensorflow as tf \n",
        "import tensorflow_probability as tfp\n",
        "import numpy as np \n",
        "import scipy\n",
        "from scipy.ndimage import affine_transform\n",
        "import matplotlib.pyplot as plt\n"
      ],
      "execution_count": null,
      "outputs": []
    },
    {
      "cell_type": "code",
      "metadata": {
        "id": "i8HNSRlP6bOY"
      },
      "source": [
        "# plt.imshow(x_train[3])\n",
        "# plt.show()\n",
        "\n",
        "\n",
        "meshgrid_x,meshgrid_y=np.mgrid[:28,:28]\n",
        "\n",
        "\n",
        "def  basemoment(image):\n",
        "  mass=np.sum(image)\n",
        "  mom_x=np.sum(image*meshgrid_x)/mass\n",
        "  mom_y=np.sum(image*meshgrid_y)/mass\n",
        "  return (mass,mom_x,mom_y)\n",
        "\n",
        "def moments(image,i,j):\n",
        "  com=basemoment(image)\n",
        "  com_x=meshgrid_x-com[1]\n",
        "  com_y=meshgrid_y-com[2]\n",
        "  intense_x=np.sum((com_x**i)*(com_y**j)*image)/com[0]\n",
        "  # intense_y=np.sum((com_y**j)*image)/com[0]\n",
        "  return intense_x\n",
        "\n",
        "def cov(image):\n",
        "  arr=[[moments(image,2,0),moments(image,1,1)],\n",
        "       [moments(image,1,1),moments(image,0,2)]]\n",
        "  return arr\n",
        "\n",
        "def rot_matrix(image):\n",
        "  list_cov=cov(image)\n",
        "  # var=list_cov[0][0]-list_cov[1][1]\n",
        "  # varn=2*list_cov[0][1]\n",
        "  # theta=0.5*np.arctan(varn/var)\n",
        "  # var=np.var(image)\n",
        "  corr=moments(image,1,1)/moments(image,2,0)\n",
        "  rot_matrix=[[1,0],\n",
        "             [corr,1]]\n",
        "\n",
        "  # rot_matrix=[[np.cos(theta),-np.sin(theta)],\n",
        "  #             [-np.sin(theta),np.cos(theta)]]\n",
        "  return rot_matrix\n",
        "\n",
        "def transform(data):\n",
        "  buff=np.zeros(data.shape)\n",
        "  for i in range(len(buff)):\n",
        "    rot_mat=rot_matrix(data[i])\n",
        "    centroid=basemoment(data[i])\n",
        "    offset=[centroid[1],centroid[2]]-np.dot(rot_mat,[14,14])\n",
        "    rot_mat=affine_transform(data[i],rot_mat,offset=offset)\n",
        "    buff[i]=rot_mat\n",
        "  \n",
        "  return tf.cast(buff,dtype=tf.float32)\n",
        "\n",
        "\n"
      ],
      "execution_count": null,
      "outputs": []
    },
    {
      "cell_type": "code",
      "metadata": {
        "id": "nKlczTFUSL-f"
      },
      "source": [
        "(x_train,y_train),(x_test,y_test)=tf.keras.datasets.mnist.load_data()\n",
        "x_train=transform(x_train)\n",
        "x_test=transform(x_test)\n",
        "\n"
      ],
      "execution_count": null,
      "outputs": []
    },
    {
      "cell_type": "code",
      "metadata": {
        "id": "3_CPhnd2SUob"
      },
      "source": [
        "def ProbitRegression():\n",
        "    input=tf.keras.layers.Flatten(input_shape=(28,28))\n",
        "    output=tf.keras.layers.Dense(10,activation=tfp.bijectors.NormalCDF())\n",
        "    layers=[input,output]\n",
        "    model=tf.keras.Sequential(layers)\n",
        "    model.compile(loss='SparseCategoricalCrossentropy',optimizer='adam',metrics='accuracy')\n",
        "    return model\n"
      ],
      "execution_count": null,
      "outputs": []
    },
    {
      "cell_type": "code",
      "metadata": {
        "id": "tBSVFwkOSXvm"
      },
      "source": [
        "callback=tf.keras.callbacks.EarlyStopping(monitor='val_accuracy',mode='max',patience=10,restore_best_weights=1)\n",
        "model=ProbitRegression()\n",
        "model.fit(x_train/255,y_train,epochs=200,validation_data=(x_test/255,y_test),callbacks=callback)\n"
      ],
      "execution_count": null,
      "outputs": []
    }
  ]
}
